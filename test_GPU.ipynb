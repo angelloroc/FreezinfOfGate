{
 "cells": [
  {
   "cell_type": "code",
   "execution_count": 1,
   "metadata": {},
   "outputs": [
    {
     "name": "stdout",
     "output_type": "stream",
     "text": [
      "Tiempo de CPU: 0.00800013542175293\n",
      "Tiempo de GPU: 0.0020041465759277344\n",
      "Resultado de CPU: tf.Tensor(0.0, shape=(), dtype=float32)\n",
      "Resultado de GPU: tf.Tensor(0.0, shape=(), dtype=float32)\n",
      "El factor de aceleración es de 3.9917915774446824\n"
     ]
    }
   ],
   "source": [
    "\n",
    "import tensorflow as tf\n",
    "import time\n",
    "\n",
    "# Crea dos matrices de 1000x1000 con números aleatorios\n",
    "shape = (2000, 2000)\n",
    "cpu_tensor = tf.random.normal(shape=shape)\n",
    "gpu_tensor = tf.random.normal(shape=shape)\n",
    "\n",
    "# Calcula el producto de los elementos de la matriz en la CPU\n",
    "start_time = time.time()\n",
    "with tf.device('/CPU:0'):\n",
    "    cpu_result = tf.reduce_prod(cpu_tensor)\n",
    "time_CPU = time.time() - start_time\n",
    "print(\"Tiempo de CPU:\",time_CPU)\n",
    "\n",
    "# Calcula el producto de los elementos de la matriz en la GPU\n",
    "start_time = time.time()\n",
    "with tf.device('/GPU:0'):\n",
    "    gpu_result = tf.reduce_prod(gpu_tensor)\n",
    "time_GPU = time.time() - start_time\n",
    "print(\"Tiempo de GPU:\", time_GPU)\n",
    "\n",
    "# Comprueba que los resultados son iguales\n",
    "print(\"Resultado de CPU:\", cpu_result)\n",
    "print(\"Resultado de GPU:\", gpu_result)\n",
    "\n",
    "print(\"El factor de aceleración es de\", time_CPU/time_GPU)\n",
    "\n",
    "\n"
   ]
  }
 ],
 "metadata": {
  "kernelspec": {
   "display_name": "deeplearning",
   "language": "python",
   "name": "python3"
  },
  "language_info": {
   "codemirror_mode": {
    "name": "ipython",
    "version": 3
   },
   "file_extension": ".py",
   "mimetype": "text/x-python",
   "name": "python",
   "nbconvert_exporter": "python",
   "pygments_lexer": "ipython3",
   "version": "3.10.11"
  },
  "orig_nbformat": 4
 },
 "nbformat": 4,
 "nbformat_minor": 2
}
